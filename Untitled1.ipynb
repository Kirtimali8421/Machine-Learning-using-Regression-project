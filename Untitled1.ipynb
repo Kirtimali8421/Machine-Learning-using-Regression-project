{
 "cells": [
  {
   "cell_type": "code",
   "execution_count": 1,
   "id": "613f2067-43cc-4d3a-811f-e0afe1372d7d",
   "metadata": {},
   "outputs": [
    {
     "name": "stdout",
     "output_type": "stream",
     "text": [
      "✅ Model pipeline saved as crop_yield_diseases.pkl\n"
     ]
    }
   ],
   "source": [
    "import pandas as pd\n",
    "from sklearn.model_selection import train_test_split\n",
    "from sklearn.pipeline import Pipeline\n",
    "from sklearn.ensemble import RandomForestRegressor\n",
    "from sklearn.compose import ColumnTransformer\n",
    "from sklearn.preprocessing import OneHotEncoder, StandardScaler\n",
    "import pickle as pkl\n",
    "\n",
    "# Load dataset\n",
    "df = pd.read_csv(\"Crop_Yield_and_Disease_Cleaned.csv\")\n",
    "\n",
    "# Prepare features and target\n",
    "X = df.drop(columns=[\"Crop_Yield\", \"Disease\", \"Disease_Type\"])\n",
    "y = df[\"Crop_Yield\"]\n",
    "\n",
    "# Identify categorical and numeric columns\n",
    "cat_cols = X.select_dtypes(include='object').columns.tolist()\n",
    "num_cols = X.select_dtypes(include='number').columns.tolist()\n",
    "\n",
    "# Preprocessing\n",
    "preprocessor = ColumnTransformer([\n",
    "    (\"num\", StandardScaler(), num_cols),\n",
    "    (\"cat\", OneHotEncoder(handle_unknown='ignore'), cat_cols)\n",
    "])\n",
    "\n",
    "# Pipeline\n",
    "pipe = Pipeline([\n",
    "    (\"preprocess\", preprocessor),\n",
    "    (\"model\", RandomForestRegressor(n_estimators=100, random_state=42))\n",
    "])\n",
    "\n",
    "# Train model\n",
    "pipe.fit(X, y)\n",
    "\n",
    "# Save model to pickle file\n",
    "pkl.dump(pipe, open(\"crop_yield_diseases.pkl\", \"wb\"))\n",
    "\n",
    "print(\"✅ Model pipeline saved as crop_yield_diseases.pkl\")\n"
   ]
  },
  {
   "cell_type": "code",
   "execution_count": null,
   "id": "fdbd5432-3fea-4de3-b247-cc8605e51498",
   "metadata": {},
   "outputs": [],
   "source": []
  }
 ],
 "metadata": {
  "kernelspec": {
   "display_name": "Python 3 (ipykernel)",
   "language": "python",
   "name": "python3"
  },
  "language_info": {
   "codemirror_mode": {
    "name": "ipython",
    "version": 3
   },
   "file_extension": ".py",
   "mimetype": "text/x-python",
   "name": "python",
   "nbconvert_exporter": "python",
   "pygments_lexer": "ipython3",
   "version": "3.12.7"
  }
 },
 "nbformat": 4,
 "nbformat_minor": 5
}
